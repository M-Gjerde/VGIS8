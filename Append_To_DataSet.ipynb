{
 "cells": [
  {
   "cell_type": "code",
   "execution_count": 1,
   "id": "508eaa45",
   "metadata": {},
   "outputs": [],
   "source": [
    "import glob\n",
    "import random\n",
    "from datetime import datetime, timedelta\n",
    "import matplotlib.pyplot as plt\n",
    "import netCDF4 as nc\n",
    "import numpy as np\n",
    "from matplotlib import animation\n",
    "from scipy.interpolate import Rbf\n",
    "import pandas as pd\n",
    "import numba as nb\n"
   ]
  },
  {
   "cell_type": "code",
   "execution_count": 2,
   "id": "8de5f6f9",
   "metadata": {},
   "outputs": [],
   "source": [
    "df = pd.read_csv('./jason3-caspian.csv')\n"
   ]
  },
  {
   "cell_type": "code",
   "execution_count": 3,
   "id": "d5837e2c",
   "metadata": {},
   "outputs": [
    {
     "data": {
      "text/html": [
       "<div>\n",
       "<style scoped>\n",
       "    .dataframe tbody tr th:only-of-type {\n",
       "        vertical-align: middle;\n",
       "    }\n",
       "\n",
       "    .dataframe tbody tr th {\n",
       "        vertical-align: top;\n",
       "    }\n",
       "\n",
       "    .dataframe thead th {\n",
       "        text-align: right;\n",
       "    }\n",
       "</style>\n",
       "<table border=\"1\" class=\"dataframe\">\n",
       "  <thead>\n",
       "    <tr style=\"text-align: right;\">\n",
       "      <th></th>\n",
       "      <th>time</th>\n",
       "      <th>lat</th>\n",
       "      <th>lon</th>\n",
       "      <th>MSS</th>\n",
       "      <th>surfacetype</th>\n",
       "      <th>range</th>\n",
       "      <th>ssha</th>\n",
       "      <th>bathymetry</th>\n",
       "    </tr>\n",
       "  </thead>\n",
       "  <tbody>\n",
       "    <tr>\n",
       "      <th>0</th>\n",
       "      <td>6.406609e+08</td>\n",
       "      <td>47.965833</td>\n",
       "      <td>47.882908</td>\n",
       "      <td>-10.8220</td>\n",
       "      <td>3</td>\n",
       "      <td>--</td>\n",
       "      <td>--</td>\n",
       "      <td>-8</td>\n",
       "    </tr>\n",
       "    <tr>\n",
       "      <th>1</th>\n",
       "      <td>6.406609e+08</td>\n",
       "      <td>47.922560</td>\n",
       "      <td>47.927560</td>\n",
       "      <td>-10.8742</td>\n",
       "      <td>3</td>\n",
       "      <td>1349699.3757</td>\n",
       "      <td>--</td>\n",
       "      <td>-8</td>\n",
       "    </tr>\n",
       "    <tr>\n",
       "      <th>2</th>\n",
       "      <td>6.406609e+08</td>\n",
       "      <td>47.879267</td>\n",
       "      <td>47.972130</td>\n",
       "      <td>-10.8491</td>\n",
       "      <td>3</td>\n",
       "      <td>--</td>\n",
       "      <td>--</td>\n",
       "      <td>-15</td>\n",
       "    </tr>\n",
       "    <tr>\n",
       "      <th>3</th>\n",
       "      <td>6.406609e+08</td>\n",
       "      <td>47.835952</td>\n",
       "      <td>48.016619</td>\n",
       "      <td>-10.8157</td>\n",
       "      <td>3</td>\n",
       "      <td>--</td>\n",
       "      <td>--</td>\n",
       "      <td>-19</td>\n",
       "    </tr>\n",
       "    <tr>\n",
       "      <th>4</th>\n",
       "      <td>6.406609e+08</td>\n",
       "      <td>47.792616</td>\n",
       "      <td>48.061028</td>\n",
       "      <td>-10.7859</td>\n",
       "      <td>3</td>\n",
       "      <td>--</td>\n",
       "      <td>--</td>\n",
       "      <td>-14</td>\n",
       "    </tr>\n",
       "  </tbody>\n",
       "</table>\n",
       "</div>"
      ],
      "text/plain": [
       "           time        lat        lon      MSS  surfacetype         range  \\\n",
       "0  6.406609e+08  47.965833  47.882908 -10.8220            3            --   \n",
       "1  6.406609e+08  47.922560  47.927560 -10.8742            3  1349699.3757   \n",
       "2  6.406609e+08  47.879267  47.972130 -10.8491            3            --   \n",
       "3  6.406609e+08  47.835952  48.016619 -10.8157            3            --   \n",
       "4  6.406609e+08  47.792616  48.061028 -10.7859            3            --   \n",
       "\n",
       "  ssha  bathymetry  \n",
       "0   --          -8  \n",
       "1   --          -8  \n",
       "2   --         -15  \n",
       "3   --         -19  \n",
       "4   --         -14  "
      ]
     },
     "execution_count": 3,
     "metadata": {},
     "output_type": "execute_result"
    }
   ],
   "source": [
    "df.head()"
   ]
  },
  {
   "cell_type": "code",
   "execution_count": 4,
   "id": "85715781",
   "metadata": {},
   "outputs": [],
   "source": [
    "path = \"data/JSON-3/JA3*/*.nc\"\n",
    "files = glob.glob(path)\n",
    "ncid = []\n",
    "for i, file in enumerate(files):\n",
    "    ncid.append(nc.Dataset(file))\n"
   ]
  },
  {
   "cell_type": "code",
   "execution_count": 40,
   "id": "f764148d",
   "metadata": {},
   "outputs": [],
   "source": [
    "latMin = 36\n",
    "latMax = 48\n",
    "lonMin = 46\n",
    "lonMax = 55\n",
    "\n",
    "def read_variable_data(ncid, varname):\n",
    "    row = []\n",
    "    for x in range(len(ncid)):\n",
    "        try:\n",
    "            row.append(ncid[x].variables[varname])\n",
    "        except KeyError as e:\n",
    "            #print(e, len(row), x)\n",
    "            continue\n",
    "    return row\n",
    "\n",
    "\n",
    "def read_pass_number(ncid, varname=\"lat\"):\n",
    "    row = []\n",
    "    for x in range(len(ncid)):\n",
    "        try:\n",
    "            ncid[x].variables[varname]\n",
    "            row.append(ncid[x].pass_number)\n",
    "        except KeyError as e:\n",
    "            #print(e, len(row), x)\n",
    "            continue\n",
    "    return row"
   ]
  },
  {
   "cell_type": "code",
   "execution_count": 43,
   "id": "6955763b",
   "metadata": {},
   "outputs": [],
   "source": [
    "latList = read_variable_data(ncid, \"lat\")\n",
    "lonList = read_variable_data(ncid, \"lon\")\n",
    "\n",
    "dataList = read_variable_data(ncid, \"alt_quality_flag\")\n",
    "passNumberList = read_pass_number(ncid)\n"
   ]
  },
  {
   "cell_type": "code",
   "execution_count": 44,
   "id": "3f6f7d84",
   "metadata": {},
   "outputs": [
    {
     "name": "stdout",
     "output_type": "stream",
     "text": [
      "2306 2306 4348\n"
     ]
    }
   ],
   "source": [
    "print(len(passNumberList), len(dataList), len(ncid))"
   ]
  },
  {
   "cell_type": "markdown",
   "id": "f6191605",
   "metadata": {},
   "source": [
    "## Numpy attempt"
   ]
  },
  {
   "cell_type": "code",
   "execution_count": 47,
   "id": "14e70ad9",
   "metadata": {},
   "outputs": [],
   "source": [
    "height = len(dataList)\n",
    "width = len(dataList[0]) * 2"
   ]
  },
  {
   "cell_type": "code",
   "execution_count": null,
   "id": "d5959dd5",
   "metadata": {},
   "outputs": [],
   "source": []
  },
  {
   "cell_type": "code",
   "execution_count": 46,
   "id": "f1e8a14a",
   "metadata": {},
   "outputs": [
    {
     "name": "stdout",
     "output_type": "stream",
     "text": [
      "0 of 2306 elements. Total 0\n",
      "100 of 2306 elements. Total 1395\n",
      "200 of 2306 elements. Total 2668\n",
      "300 of 2306 elements. Total 4034\n",
      "400 of 2306 elements. Total 5528\n",
      "500 of 2306 elements. Total 6881\n",
      "600 of 2306 elements. Total 8141\n",
      "700 of 2306 elements. Total 9499\n",
      "800 of 2306 elements. Total 10970\n",
      "900 of 2306 elements. Total 12339\n",
      "1000 of 2306 elements. Total 13838\n",
      "1100 of 2306 elements. Total 15090\n",
      "1200 of 2306 elements. Total 16372\n",
      "1300 of 2306 elements. Total 17843\n",
      "1400 of 2306 elements. Total 19087\n",
      "1500 of 2306 elements. Total 20343\n",
      "1600 of 2306 elements. Total 21691\n",
      "1700 of 2306 elements. Total 23179\n",
      "1800 of 2306 elements. Total 24542\n",
      "1900 of 2306 elements. Total 25804\n",
      "2000 of 2306 elements. Total 27170\n",
      "2100 of 2306 elements. Total 28670\n",
      "2200 of 2306 elements. Total 30026\n",
      "2300 of 2306 elements. Total 31528\n"
     ]
    }
   ],
   "source": [
    "sortedData = []\n",
    "passNumbers = []\n",
    "for i in range(len(latList)):\n",
    "    for j in range(len(latList[i])):\n",
    "        if (latMax > latList[i][j] > latMin and lonMax > lonList[i][j] > lonMin):\n",
    "            sortedData.append(dataList[i][j])\n",
    "            passNumbers.append(passNumberList[i])\n",
    "    if (i % 100 == 0):\n",
    "        print(\"{} of {} elements. Total {}\".format(i, len(dataList), len(sortedData)))"
   ]
  },
  {
   "cell_type": "code",
   "execution_count": null,
   "id": "2bfba689",
   "metadata": {},
   "outputs": [],
   "source": [
    "dataSeries = pd.Series(sortedData)\n",
    "passSeries = pd.Series(passNumbers)\n",
    "\n",
    "features = pd.concat([dataSeries, passSeries])\n",
    "features.columns = [\"alt_quality_flag\", \"pass_number\"]\n",
    "\n",
    "features = pd.concat([df, features])\n",
    "\n",
    "\n"
   ]
  }
 ],
 "metadata": {
  "kernelspec": {
   "display_name": "Python 3 (ipykernel)",
   "language": "python",
   "name": "python3"
  },
  "language_info": {
   "codemirror_mode": {
    "name": "ipython",
    "version": 3
   },
   "file_extension": ".py",
   "mimetype": "text/x-python",
   "name": "python",
   "nbconvert_exporter": "python",
   "pygments_lexer": "ipython3",
   "version": "3.9.7"
  }
 },
 "nbformat": 4,
 "nbformat_minor": 5
}
