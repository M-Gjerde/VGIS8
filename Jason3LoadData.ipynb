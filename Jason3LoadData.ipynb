{
 "cells": [
  {
   "cell_type": "code",
   "execution_count": 91,
   "id": "55de719a",
   "metadata": {},
   "outputs": [],
   "source": [
    "import glob\n",
    "import random\n",
    "from datetime import datetime, timedelta\n",
    "import matplotlib.pyplot as plt\n",
    "import netCDF4 as nc\n",
    "import numpy as np\n",
    "from matplotlib import animation\n",
    "from scipy.interpolate import Rbf\n",
    "import pandas as pd\n",
    "import numba as nb\n",
    "\n",
    "import os"
   ]
  },
  {
   "cell_type": "markdown",
   "id": "5be67350",
   "metadata": {},
   "source": [
    "# Read the data and variables From Full dataset"
   ]
  },
  {
   "cell_type": "code",
   "execution_count": 184,
   "id": "47ecd251",
   "metadata": {},
   "outputs": [],
   "source": [
    "path2016 = \"data/jason3/2016/*.nc/*.nc\"\n",
    "path2017 = \"data/jason3/2017/*.nc/*.nc\"\n",
    "path2018 = \"data/jason3/2018/*.nc/*.nc\"\n",
    "path2019 = \"data/jason3/2019/*.nc/*.nc\"\n",
    "path2020 = \"data/jason3/2020/*.nc/*.nc\"\n",
    "path2021 = \"data/jason3/2021/*.nc/*.nc\"\n",
    "pathSentinel = \"data/Sentinel6/*/*/\"\n",
    "pathSentinel = \"data/Sentinel6/*/*/*STD*.nc\"\n",
    "#C:\\Users\\mgjer\\PycharmProjects\\VGIS8\\data\\Sentinel6\\*\\*\\\n",
    "#outputFile = \"reduced_caspian_2018.csv\"\n",
    "\n",
    "root_dir = \"data\\\\Sentinel6\\\\*\\\\\"\n",
    "ncid = []\n",
    "# root_dir needs a trailing slash (i.e. /root/dir/)\n",
    "files = os.listdir(os.getcwd() + r\"/data/Sentinel6/\")\n",
    "\n",
    "    \n",
    "\n",
    "files = glob.glob(pathSentinel)\n",
    "for i, file in enumerate(files):\n",
    "    ncid.append(nc.Dataset(file))\n"
   ]
  },
  {
   "cell_type": "code",
   "execution_count": 187,
   "id": "15f2b6f5",
   "metadata": {},
   "outputs": [
    {
     "name": "stdout",
     "output_type": "stream",
     "text": [
      "CF-1.7\n"
     ]
    }
   ],
   "source": [
    "print(ncid[0].Convention)"
   ]
  },
  {
   "cell_type": "code",
   "execution_count": 188,
   "id": "d4223ffe",
   "metadata": {},
   "outputs": [],
   "source": [
    "def read_1_1variable_data(ncid, varname):\n",
    "    var = None\n",
    "    try:\n",
    "        var = ncid.variables[varname]\n",
    "    except KeyError as e:\n",
    "        print(\"KeyError\" + str(e), len(row), ncid.variables)\n",
    "    return var\n",
    "\n",
    "def read_1_7variable_data(ncid, varname):\n",
    "    var = None\n",
    "    try:\n",
    "        if \"range_ocean\" in varname or \"ssha\" in varname:\n",
    "             var = ncid.groups[\"data_01\"].groups[\"ku\"].variables[varname]\n",
    "        else:\n",
    "             var = ncid.groups[\"data_01\"].variables[varname]                    \n",
    "    except KeyError as e:\n",
    "        print(\"KeyError\" + str(e), len(var), ncid.variables)\n",
    "    return var\n",
    "\n",
    "def read_pass_number(ncid, convention=\"1.1\", varname=\"lat\"):\n",
    "    row = []\n",
    "    try:\n",
    "        if \"1.1\" in convention:\n",
    "            ncid.variables[varname]\n",
    "            row.append(ncid.pass_number)\n",
    "\n",
    "        else:\n",
    "            row.append(ncid.pass_number)\n",
    "\n",
    "    except KeyError as e:\n",
    "        print(\"Read pass number error: \", e, len(row), x)\n",
    "        return row\n",
    "    return row"
   ]
  },
  {
   "cell_type": "code",
   "execution_count": null,
   "id": "1d7d9f43",
   "metadata": {},
   "outputs": [],
   "source": []
  },
  {
   "cell_type": "markdown",
   "id": "dc6d2685",
   "metadata": {},
   "source": [
    "## Optimized numpy attempt"
   ]
  },
  {
   "cell_type": "code",
   "execution_count": 196,
   "id": "f0e7290b",
   "metadata": {},
   "outputs": [
    {
     "name": "stdout",
     "output_type": "stream",
     "text": [
      "8 15000 230\n"
     ]
    }
   ],
   "source": [
    "# Read variable Data CF-1.1 Convention\n",
    "latList = []\n",
    "lonList = []\n",
    "meanSeaSurfaceList  = []\n",
    "timeList = []\n",
    "surfaceTypeList = []\n",
    "rangeList = []\n",
    "sshaList = []\n",
    "altitudeList = []\n",
    "bathymetryList = []\n",
    "geoflagsList = []\n",
    "qualityFlagList = []\n",
    "passNumberList = []\n",
    "\n",
    "\n",
    "for x in range(len(ncid)):\n",
    "    if \"CF-1.1\" in ncid[x].Convention:     \n",
    "        latList.append(read_1_1variable_data(ncid[x], \"lat\"))\n",
    "        lonList.append(read_1_1variable_data(ncid[x], \"lon\"))\n",
    "        meanSeaSurfaceList.append(read_1_1variable_data(ncid[x], \"mean_sea_surface\"))\n",
    "        timeList.append(read_1_1variable_data(ncid[x], \"time\"))\n",
    "        surfaceTypeList.append(read_1_1variable_data(ncid[x], \"surface_type\"))\n",
    "        rangeList.append(read_1_1variable_data(ncid[x], \"range_ku\"))\n",
    "        sshaList.append(read_1_1variable_data(ncid[x], \"ssha\"))\n",
    "        altitudeList.append(read_1_1variable_data(ncid[x], \"alt\"))\n",
    "        bathymetryList.append(read_1_1variable_data(ncid[x], \"bathymetry\"))\n",
    "        geoflagsList.append(read_1_1variable_data(ncid[x], \"geophysical_quality_flag\"))\n",
    "        qualityFlagList.append(read_1_1variable_data(ncid[x], \"alt_quality_flag\"))\n",
    "        passNumberList.append(read_pass_number(ncid[x]))\n",
    "    elif \"Poseidon-4B\" in ncid[x].altimeter_sensor_name:\n",
    "        latList.append(read_1_7variable_data(ncid[x], \"latitude\"))\n",
    "        lonList.append(read_1_7variable_data(ncid[x], \"longitude\"))\n",
    "        meanSeaSurfaceList.append(read_1_7variable_data(ncid[x], \"mean_sea_surface_sol1\"))\n",
    "        timeList.append(read_1_7variable_data(ncid[x], \"time\"))\n",
    "        surfaceTypeList.append(read_1_7variable_data(ncid[x], \"surface_classification_flag\"))\n",
    "        rangeList.append(read_1_7variable_data(ncid[x], \"range_ocean\"))\n",
    "        sshaList.append(read_1_7variable_data(ncid[x], \"ssha\"))\n",
    "        altitudeList.append(read_1_7variable_data(ncid[x], \"altitude\"))\n",
    "        bathymetryList.append(read_1_7variable_data(ncid[x], \"depth_or_elevation\"))\n",
    "        geoflagsList.append(read_1_7variable_data(ncid[x], \"mean_sea_surface_sol1_qual\"))\n",
    "        qualityFlagList.append(read_1_7variable_data(ncid[x], \"mean_sea_surface_sol1\"))\n",
    "        passNumberList.append(read_pass_number(ncid[x], \"1.7\"))\n",
    "    else:\n",
    "        latList.append(read_1_7variable_data(ncid[x], \"latitude\"))\n",
    "        lonList.append(read_1_7variable_data(ncid[x], \"longitude\"))\n",
    "        meanSeaSurfaceList.append(read_1_7variable_data(ncid[x], \"mean_sea_surface_cnescls\"))\n",
    "        timeList.append(read_1_7variable_data(ncid[x], \"time\"))\n",
    "        surfaceTypeList.append(read_1_7variable_data(ncid[x], \"surface_classification_flag\"))\n",
    "        rangeList.append(read_1_7variable_data(ncid[x], \"range_ocean\"))\n",
    "        sshaList.append(read_1_7variable_data(ncid[x], \"ssha\"))\n",
    "        altitudeList.append(read_1_7variable_data(ncid[x], \"altitude\"))\n",
    "        bathymetryList.append(read_1_7variable_data(ncid[x], \"depth_or_elevation\"))\n",
    "        geoflagsList.append(read_1_7variable_data(ncid[x], \"geo_qual\"))\n",
    "        qualityFlagList.append(read_1_7variable_data(ncid[x], \"alt_qual\"))\n",
    "        passNumberList.append(read_pass_number(ncid[x], \"1.7\"))\n",
    "        \n",
    "dataLists = [latList, lonList, timeList, meanSeaSurfaceList, surfaceTypeList, rangeList,altitudeList, geoflagsList]\n",
    "dataListsNames = [\"lat\", \"lon\", \"time\", \"mss\",\"surface type\", \"range\",\"altitude\", \"geophysical quality flag\", \"pass number\"]\n",
    "\n",
    "\n",
    "latMin = 36.0\n",
    "latMax = 48.0\n",
    "lonMin = 46.0\n",
    "lonMax = 55.0\n",
    "\n",
    "height = len(dataLists)\n",
    "width = 15000\n",
    "print(height, width, len(dataLists[0]))\n"
   ]
  },
  {
   "cell_type": "code",
   "execution_count": null,
   "id": "6cb4838a",
   "metadata": {},
   "outputs": [],
   "source": []
  },
  {
   "cell_type": "code",
   "execution_count": 194,
   "id": "cc778014",
   "metadata": {},
   "outputs": [
    {
     "ename": "NameError",
     "evalue": "name 'read_variable_data' is not defined",
     "output_type": "error",
     "traceback": [
      "\u001b[1;31m---------------------------------------------------------------------------\u001b[0m",
      "\u001b[1;31mNameError\u001b[0m                                 Traceback (most recent call last)",
      "\u001b[1;32m~\\AppData\\Local\\Temp/ipykernel_24656/2709798637.py\u001b[0m in \u001b[0;36m<module>\u001b[1;34m\u001b[0m\n\u001b[0;32m      1\u001b[0m \u001b[1;31m# Read variable Data CF-1.7 Convention\u001b[0m\u001b[1;33m\u001b[0m\u001b[1;33m\u001b[0m\u001b[0m\n\u001b[0;32m      2\u001b[0m \u001b[1;33m\u001b[0m\u001b[0m\n\u001b[1;32m----> 3\u001b[1;33m \u001b[0mlatList\u001b[0m \u001b[1;33m=\u001b[0m \u001b[0mread_variable_data\u001b[0m\u001b[1;33m(\u001b[0m\u001b[0mncid\u001b[0m\u001b[1;33m,\u001b[0m \u001b[1;34m\"latitude\"\u001b[0m\u001b[1;33m)\u001b[0m\u001b[1;33m\u001b[0m\u001b[1;33m\u001b[0m\u001b[0m\n\u001b[0m\u001b[0;32m      4\u001b[0m \u001b[0mlonList\u001b[0m \u001b[1;33m=\u001b[0m \u001b[0mread_variable_data\u001b[0m\u001b[1;33m(\u001b[0m\u001b[0mncid\u001b[0m\u001b[1;33m,\u001b[0m \u001b[1;34m\"longitude\"\u001b[0m\u001b[1;33m)\u001b[0m\u001b[1;33m\u001b[0m\u001b[1;33m\u001b[0m\u001b[0m\n\u001b[0;32m      5\u001b[0m \u001b[1;33m\u001b[0m\u001b[0m\n",
      "\u001b[1;31mNameError\u001b[0m: name 'read_variable_data' is not defined"
     ]
    }
   ],
   "source": [
    "# Read variable Data CF-1.7 Convention\n",
    "\n",
    "latList = read_variable_data(ncid, \"latitude\")\n",
    "lonList = read_variable_data(ncid, \"longitude\")\n",
    "\n",
    "meanSeaSurfaceList = read_variable_data(ncid, \"mean_sea_surface_cnescls\")\n",
    "timeList = read_variable_data(ncid, \"time\")\n",
    "surfaceTypeList = read_variable_data(ncid, \"surface_classification_flag\")\n",
    "rangeList = read_variable_data(ncid, \"range_ocean\")\n",
    "sshaList = read_variable_data(ncid, \"ssha\")\n",
    "altitudeList = read_variable_data(ncid, \"altitude\")\n",
    "\n",
    "bathymetryList = read_variable_data(ncid, \"depth_or_elevation\")\n",
    "geoflagsList = read_variable_data(ncid, \"geo_qual\")\n",
    "#qualityFlagList = read_variable_data(ncid, \"alt_qual\")\n",
    "passNumberList = read_pass_number(ncid, convention=\"1.7\", varname=\"latitude\")\n",
    "\n",
    "dataLists = [latList, lonList, timeList, meanSeaSurfaceList, surfaceTypeList, rangeList,altitudeList, geoflagsList]\n",
    "dataListsNames = [\"lat\", \"lon\", \"time\", \"mss\",\"surface type\", \"range\",\"altitude\", \"geophysical quality flag\", \"pass number\"]\n",
    "\n",
    "\n",
    "latMin = 36.0\n",
    "latMax = 48.0\n",
    "lonMin = 46.0\n",
    "lonMax = 55.0\n",
    "\n",
    "height = len(dataLists)\n",
    "width = 14500\n",
    "print(height, width, len(dataLists[0]))"
   ]
  },
  {
   "cell_type": "code",
   "execution_count": 197,
   "id": "59aab53a",
   "metadata": {},
   "outputs": [
    {
     "name": "stdout",
     "output_type": "stream",
     "text": [
      "data type: lat, 1 of 8\n",
      "data type: lon, 2 of 8\n",
      "data type: time, 3 of 8\n",
      "data type: mss, 4 of 8\n",
      "data type: surface type, 5 of 8\n",
      "data type: range, 6 of 8\n",
      "data type: altitude, 7 of 8\n",
      "data type: geophysical quality flag, 8 of 8\n"
     ]
    }
   ],
   "source": [
    "def pad(arr):\n",
    "    if width - len(arr) < 0:\n",
    "        print(len(arr))\n",
    "    return np.pad(arr, (0, width - len(arr)), mode='constant',constant_values=(np.nan,))\n",
    "\n",
    "vectors = []\n",
    "orbitPassesMat = np.full([len(dataLists[0]), width, ], np.nan)\n",
    "\n",
    "\n",
    "for i, data in enumerate(dataLists):\n",
    "    print(\"data type: {}, {} of {}\".format(dataListsNames[i], i + 1, len(dataLists)))\n",
    "    tempMat = np.full([len(data), width, ], np.nan)\n",
    "    for x in range(len(data)):\n",
    "        # should cover reading pass number list as this is not a nested list. Otherwise read nested using x as index        \n",
    "        if (i == 0):\n",
    "            orbitPass = passNumberList[x]\n",
    "            orbitPassesMat[x,:] = orbitPass\n",
    "            \n",
    "        arr = np.array(data[x])\n",
    "         #   len(data[x])\n",
    "        #except:\n",
    "            #\n",
    "        \n",
    "        arr = arr.astype(np.float32)\n",
    "        entries = pad(arr)\n",
    "        tempMat[x,:] = entries\n",
    "    \n",
    "    tempVector = tempMat.flatten()\n",
    "    vectors.append(tempVector)\n",
    "    \n",
    "    if ( i == len(dataLists) - 1):\n",
    "        orbitPasses = orbitPassesMat.flatten()\n",
    "        vectors.append(orbitPasses)"
   ]
  },
  {
   "cell_type": "code",
   "execution_count": null,
   "id": "74d097cc",
   "metadata": {},
   "outputs": [],
   "source": []
  },
  {
   "cell_type": "code",
   "execution_count": 198,
   "id": "57455489",
   "metadata": {},
   "outputs": [
    {
     "name": "stdout",
     "output_type": "stream",
     "text": [
      "(9, 3450000)\n",
      "(3450000, 9)\n"
     ]
    }
   ],
   "source": [
    "# Rotate matrix and convert to pandas dataframe\n",
    "dataMat = np.array(vectors)\n",
    "print(dataMat.shape)\n",
    "dataMat = np.transpose(dataMat)\n",
    "\n",
    "print(dataMat.shape)\n",
    "\n",
    "df = pd.DataFrame(dataMat)\n",
    "df.columns = dataListsNames"
   ]
  },
  {
   "cell_type": "code",
   "execution_count": 199,
   "id": "ac66f86e",
   "metadata": {},
   "outputs": [],
   "source": [
    "df = df.drop(df[(df.lon > lonMax)].index)\n",
    "df = df.drop(df[(df.lon < lonMin)].index)\n",
    "\n"
   ]
  },
  {
   "cell_type": "code",
   "execution_count": 200,
   "id": "e901d752",
   "metadata": {},
   "outputs": [],
   "source": [
    "df = df.drop(df[(df.lat > latMax)].index)\n",
    "df = df.drop(df[(df.lat < latMin)].index)"
   ]
  },
  {
   "cell_type": "code",
   "execution_count": 201,
   "id": "e1da215f",
   "metadata": {},
   "outputs": [],
   "source": [
    "df = df.dropna()"
   ]
  },
  {
   "cell_type": "code",
   "execution_count": 202,
   "id": "4358619a",
   "metadata": {},
   "outputs": [
    {
     "name": "stdout",
     "output_type": "stream",
     "text": [
      "Day\n",
      "Month\n",
      "Year\n"
     ]
    }
   ],
   "source": [
    "\n",
    "df[\"day\"] = \"\"\n",
    "df[\"month\"] = \"\"\n",
    "df[\"year\"] = \"\"\n",
    "\n",
    "base_date = datetime(2000, 1, 1)\n",
    "print(\"Day\")\n",
    "df[\"day\"] = df[\"time\"].apply(lambda x: (base_date + timedelta(seconds=int(x))).day)\n",
    "print(\"Month\")\n",
    "df[\"month\"] = df[\"time\"].apply(lambda x: (base_date + timedelta(seconds=int(x))).month)\n",
    "print(\"Year\")\n",
    "df[\"year\"] = df[\"time\"].apply(lambda x: (base_date + timedelta(seconds=int(x))).year)\n"
   ]
  },
  {
   "cell_type": "code",
   "execution_count": 229,
   "id": "3924154e",
   "metadata": {},
   "outputs": [],
   "source": [
    "dfSentinel2020 = df.loc[(df.year == 2021)]\n",
    "dfSentinel2021 = df.loc[(df.year == 2022)]\n",
    "\n",
    "dfSentinel2020.to_csv(r'reduced_caspian_sentinel_2021.csv', index=False)\n",
    "dfSentinel2021.to_csv(r'reduced_caspian_sentinel_2022.csv', index=False)\n"
   ]
  },
  {
   "cell_type": "code",
   "execution_count": 207,
   "id": "597f1d82",
   "metadata": {},
   "outputs": [],
   "source": [
    "\n",
    "\n",
    "df.to_csv(r'reduced_caspian_sentinel_2020.csv', index=False)\n"
   ]
  },
  {
   "cell_type": "code",
   "execution_count": 208,
   "id": "e0f77225",
   "metadata": {},
   "outputs": [
    {
     "data": {
      "text/html": [
       "<div>\n",
       "<style scoped>\n",
       "    .dataframe tbody tr th:only-of-type {\n",
       "        vertical-align: middle;\n",
       "    }\n",
       "\n",
       "    .dataframe tbody tr th {\n",
       "        vertical-align: top;\n",
       "    }\n",
       "\n",
       "    .dataframe thead th {\n",
       "        text-align: right;\n",
       "    }\n",
       "</style>\n",
       "<table border=\"1\" class=\"dataframe\">\n",
       "  <thead>\n",
       "    <tr style=\"text-align: right;\">\n",
       "      <th></th>\n",
       "      <th>lat</th>\n",
       "      <th>lon</th>\n",
       "      <th>time</th>\n",
       "      <th>mss</th>\n",
       "      <th>surface type</th>\n",
       "      <th>range</th>\n",
       "      <th>altitude</th>\n",
       "      <th>geophysical quality flag</th>\n",
       "      <th>pass number</th>\n",
       "      <th>day</th>\n",
       "      <th>month</th>\n",
       "      <th>year</th>\n",
       "    </tr>\n",
       "  </thead>\n",
       "  <tbody>\n",
       "  </tbody>\n",
       "</table>\n",
       "</div>"
      ],
      "text/plain": [
       "Empty DataFrame\n",
       "Columns: [lat, lon, time, mss, surface type, range, altitude, geophysical quality flag, pass number, day, month, year]\n",
       "Index: []"
      ]
     },
     "execution_count": 208,
     "metadata": {},
     "output_type": "execute_result"
    }
   ],
   "source": [
    "data = df.loc[(df.month == 12) &(df.year == 2016) & (df[\"surface type\"] == 1)]\n",
    "data.head(10000)\n"
   ]
  },
  {
   "cell_type": "code",
   "execution_count": null,
   "id": "d57b925f",
   "metadata": {},
   "outputs": [],
   "source": []
  },
  {
   "cell_type": "code",
   "execution_count": null,
   "id": "10090a77",
   "metadata": {},
   "outputs": [],
   "source": []
  },
  {
   "cell_type": "code",
   "execution_count": 222,
   "id": "324d94b0",
   "metadata": {},
   "outputs": [
    {
     "name": "stdout",
     "output_type": "stream",
     "text": [
      "[ 92. 107. 133. 168. 209. 235. 244.  16.  31.  57.  66.]\n"
     ]
    },
    {
     "data": {
      "image/png": "[encoded data removed]",
      "text/plain": [
       "<Figure size 864x504 with 1 Axes>"
      ]
     },
     "metadata": {
      "needs_background": "light"
     },
     "output_type": "display_data"
    }
   ],
   "source": [
    "import cartopy.crs as crs\n",
    "import cartopy.feature as feat\n",
    "\n",
    "def windowToAxes(window):\n",
    "    return [window[0]['lon'], window[1]['lon'], window[1]['lat'], window[0]['lat']]\n",
    "\n",
    "window = [{'lat': latMax, 'lon': lonMax}, {'lat': latMin, 'lon': lonMin}]\n",
    "\n",
    "data = df.loc[(df.year == 2022) &(df.month == 4) & (df[\"surface type\"] == 2)]\n",
    "\n",
    "\n",
    "fig = plt.figure(figsize=(12, 7))\n",
    "ax = plt.axes(projection=crs.PlateCarree())\n",
    "ax.set_extent(windowToAxes(window))\n",
    "ax.add_feature(feat.LAND, zorder=100, edgecolor='k', alpha=0.3)\n",
    "ax.coastlines()\n",
    "ax.scatter(x=data[\"lon\"], y=data[\"lat\"], c=data[\"pass number\"], s=2, transform=crs.PlateCarree(central_longitude=0))\n",
    "ax.gridlines(draw_labels=False)\n",
    "\n",
    "print(data[\"pass number\"].unique())\n"
   ]
  },
  {
   "cell_type": "code",
   "execution_count": null,
   "id": "b75dde57",
   "metadata": {},
   "outputs": [],
   "source": []
  },
  {
   "cell_type": "code",
   "execution_count": null,
   "id": "831c0e34",
   "metadata": {},
   "outputs": [],
   "source": []
  }
 ],
 "metadata": {
  "kernelspec": {
   "display_name": "Python 3 (ipykernel)",
   "language": "python",
   "name": "python3"
  },
  "language_info": {
   "codemirror_mode": {
    "name": "ipython",
    "version": 3
   },
   "file_extension": ".py",
   "mimetype": "text/x-python",
   "name": "python",
   "nbconvert_exporter": "python",
   "pygments_lexer": "ipython3",
   "version": "3.9.7"
  }
 },
 "nbformat": 4,
 "nbformat_minor": 5
}
