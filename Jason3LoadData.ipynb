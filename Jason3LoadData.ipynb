{
 "cells": [
  {
   "cell_type": "code",
   "execution_count": 1,
   "id": "55de719a",
   "metadata": {},
   "outputs": [],
   "source": [
    "import glob\n",
    "import random\n",
    "from datetime import datetime, timedelta\n",
    "import matplotlib.pyplot as plt\n",
    "import netCDF4 as nc\n",
    "import numpy as np\n",
    "from matplotlib import animation\n",
    "from scipy.interpolate import Rbf\n",
    "import pandas as pd\n",
    "import numba as nb\n"
   ]
  },
  {
   "cell_type": "markdown",
   "id": "5be67350",
   "metadata": {},
   "source": [
    "# Read the data and variables From Full dataset"
   ]
  },
  {
   "cell_type": "code",
   "execution_count": 2,
   "id": "47ecd251",
   "metadata": {},
   "outputs": [],
   "source": [
    "path2016 = \"data/jason3/2016/*.nc/*.nc\"\n",
    "path2017 = \"data/jason3/2017/*.nc/*.nc\"\n",
    "path2018 = \"data/jason3/2018/*.nc/*.nc\"\n",
    "path2019 = \"data/jason3/2019/*.nc/*.nc\"\n",
    "path2020 = \"data/jason3/2020/*.nc/*.nc\"\n",
    "path2021 = \"data/jason3/2021/*.nc/*.nc\"\n",
    "\n",
    "#outputFile = \"reduced_caspian_2018.csv\"\n",
    "\n",
    "files = glob.glob(path2020)\n",
    "ncid = []\n",
    "\n",
    "for i, file in enumerate(files):\n",
    "    ncid.append(nc.Dataset(file))\n"
   ]
  },
  {
   "cell_type": "code",
   "execution_count": 69,
   "id": "15f2b6f5",
   "metadata": {},
   "outputs": [
    {
     "name": "stdout",
     "output_type": "stream",
     "text": [
      "CF-1.7\n"
     ]
    }
   ],
   "source": [
    "print(ncid[3506].Conventions)"
   ]
  },
  {
   "cell_type": "code",
   "execution_count": 72,
   "id": "d4223ffe",
   "metadata": {},
   "outputs": [],
   "source": [
    "def read_variable_data(ncid, varname):\n",
    "    row = []\n",
    "    try:\n",
    "        for x in range(len(ncid)):\n",
    "            if \"CF-1.7\" in ncid[x].Conventions:\n",
    "                if \"range_ocean\" in varname or \"ssha\" in varname:\n",
    "                    row.append(ncid[x].groups[\"data_01\"].groups[\"ku\"].variables[varname])\n",
    "                else:\n",
    "                    row.append(ncid[x].groups[\"data_01\"].variables[varname])\n",
    "            else:\n",
    "                row.append(ncid[x].variables[varname])\n",
    "            ## Case for 2021 data, else case for 2016 data\n",
    "            #if ncid[x].variables == {}:\n",
    "            #    row.append(ncid[x].groups[\"data_01\"].variables[varname])\n",
    "            #else:\n",
    "    except KeyError as e:\n",
    "        print(\"KeyError\" + str(e), len(row), ncid[x].variables)\n",
    "    return row\n",
    "\n",
    "def read_pass_number(ncid, convention=\"1.1\", varname=\"lat\"):\n",
    "    row = []\n",
    "    for x in range(len(ncid)):\n",
    "        try:\n",
    "            if \"1.1\" in convention:\n",
    "                ncid[x].variables[varname]\n",
    "                row.append(ncid[x].pass_number)\n",
    "                \n",
    "            else:\n",
    "                row.append(ncid[x].pass_number)\n",
    "\n",
    "        except KeyError as e:\n",
    "            print(\"Read pass number error: \", e, len(row), x)\n",
    "            return row\n",
    "    return row"
   ]
  },
  {
   "cell_type": "code",
   "execution_count": null,
   "id": "1d7d9f43",
   "metadata": {},
   "outputs": [],
   "source": []
  },
  {
   "cell_type": "markdown",
   "id": "dc6d2685",
   "metadata": {},
   "source": [
    "## Optimized numpy attempt"
   ]
  },
  {
   "cell_type": "code",
   "execution_count": 73,
   "id": "f0e7290b",
   "metadata": {},
   "outputs": [
    {
     "ename": "KeyError",
     "evalue": "'lat'",
     "output_type": "error",
     "traceback": [
      "\u001b[1;31m---------------------------------------------------------------------------\u001b[0m",
      "\u001b[1;31mKeyError\u001b[0m                                  Traceback (most recent call last)",
      "\u001b[1;32m~\\AppData\\Local\\Temp/ipykernel_16152/1069368506.py\u001b[0m in \u001b[0;36mread_variable_data\u001b[1;34m(ncid, varname)\u001b[0m\n\u001b[0;32m      8\u001b[0m                 \u001b[1;32melse\u001b[0m\u001b[1;33m:\u001b[0m\u001b[1;33m\u001b[0m\u001b[1;33m\u001b[0m\u001b[0m\n\u001b[1;32m----> 9\u001b[1;33m                     \u001b[0mrow\u001b[0m\u001b[1;33m.\u001b[0m\u001b[0mappend\u001b[0m\u001b[1;33m(\u001b[0m\u001b[0mncid\u001b[0m\u001b[1;33m[\u001b[0m\u001b[0mx\u001b[0m\u001b[1;33m]\u001b[0m\u001b[1;33m.\u001b[0m\u001b[0mgroups\u001b[0m\u001b[1;33m[\u001b[0m\u001b[1;34m\"data_01\"\u001b[0m\u001b[1;33m]\u001b[0m\u001b[1;33m.\u001b[0m\u001b[0mvariables\u001b[0m\u001b[1;33m[\u001b[0m\u001b[0mvarname\u001b[0m\u001b[1;33m]\u001b[0m\u001b[1;33m)\u001b[0m\u001b[1;33m\u001b[0m\u001b[1;33m\u001b[0m\u001b[0m\n\u001b[0m\u001b[0;32m     10\u001b[0m             \u001b[1;32melse\u001b[0m\u001b[1;33m:\u001b[0m\u001b[1;33m\u001b[0m\u001b[1;33m\u001b[0m\u001b[0m\n",
      "\u001b[1;31mKeyError\u001b[0m: 'lat'",
      "\nDuring handling of the above exception, another exception occurred:\n",
      "\u001b[1;31mKeyError\u001b[0m                                  Traceback (most recent call last)",
      "\u001b[1;32m~\\AppData\\Local\\Temp/ipykernel_16152/2537124665.py\u001b[0m in \u001b[0;36m<module>\u001b[1;34m\u001b[0m\n\u001b[0;32m      1\u001b[0m \u001b[1;31m# Read variable Data CF-1.1 Convention\u001b[0m\u001b[1;33m\u001b[0m\u001b[1;33m\u001b[0m\u001b[0m\n\u001b[0;32m      2\u001b[0m \u001b[1;33m\u001b[0m\u001b[0m\n\u001b[1;32m----> 3\u001b[1;33m \u001b[0mlatList\u001b[0m \u001b[1;33m=\u001b[0m \u001b[0mread_variable_data\u001b[0m\u001b[1;33m(\u001b[0m\u001b[0mncid\u001b[0m\u001b[1;33m,\u001b[0m \u001b[1;34m\"lat\"\u001b[0m\u001b[1;33m)\u001b[0m\u001b[1;33m\u001b[0m\u001b[1;33m\u001b[0m\u001b[0m\n\u001b[0m\u001b[0;32m      4\u001b[0m \u001b[0mlonList\u001b[0m \u001b[1;33m=\u001b[0m \u001b[0mread_variable_data\u001b[0m\u001b[1;33m(\u001b[0m\u001b[0mncid\u001b[0m\u001b[1;33m,\u001b[0m \u001b[1;34m\"lon\"\u001b[0m\u001b[1;33m)\u001b[0m\u001b[1;33m\u001b[0m\u001b[1;33m\u001b[0m\u001b[0m\n\u001b[0;32m      5\u001b[0m \u001b[1;33m\u001b[0m\u001b[0m\n",
      "\u001b[1;32m~\\AppData\\Local\\Temp/ipykernel_16152/1069368506.py\u001b[0m in \u001b[0;36mread_variable_data\u001b[1;34m(ncid, varname)\u001b[0m\n\u001b[0;32m     15\u001b[0m             \u001b[1;31m#else:\u001b[0m\u001b[1;33m\u001b[0m\u001b[1;33m\u001b[0m\u001b[0m\n\u001b[0;32m     16\u001b[0m     \u001b[1;32mexcept\u001b[0m \u001b[0mKeyError\u001b[0m \u001b[1;32mas\u001b[0m \u001b[0me\u001b[0m\u001b[1;33m:\u001b[0m\u001b[1;33m\u001b[0m\u001b[1;33m\u001b[0m\u001b[0m\n\u001b[1;32m---> 17\u001b[1;33m         \u001b[0mprint\u001b[0m\u001b[1;33m(\u001b[0m\u001b[0mncid\u001b[0m\u001b[1;33m[\u001b[0m\u001b[0mx\u001b[0m\u001b[1;33m]\u001b[0m\u001b[1;33m.\u001b[0m\u001b[0mgroups\u001b[0m\u001b[1;33m[\u001b[0m\u001b[1;34m\"data_01\"\u001b[0m\u001b[1;33m]\u001b[0m\u001b[1;33m.\u001b[0m\u001b[0mvariables\u001b[0m\u001b[1;33m[\u001b[0m\u001b[0mvarname\u001b[0m\u001b[1;33m]\u001b[0m\u001b[1;33m)\u001b[0m\u001b[1;33m\u001b[0m\u001b[1;33m\u001b[0m\u001b[0m\n\u001b[0m\u001b[0;32m     18\u001b[0m         \u001b[0mprint\u001b[0m\u001b[1;33m(\u001b[0m\u001b[1;34m\"KeyError\"\u001b[0m \u001b[1;33m+\u001b[0m \u001b[0mstr\u001b[0m\u001b[1;33m(\u001b[0m\u001b[0me\u001b[0m\u001b[1;33m)\u001b[0m\u001b[1;33m,\u001b[0m \u001b[0mlen\u001b[0m\u001b[1;33m(\u001b[0m\u001b[0mrow\u001b[0m\u001b[1;33m)\u001b[0m\u001b[1;33m,\u001b[0m \u001b[0mncid\u001b[0m\u001b[1;33m[\u001b[0m\u001b[0mx\u001b[0m\u001b[1;33m]\u001b[0m\u001b[1;33m.\u001b[0m\u001b[0mvariables\u001b[0m\u001b[1;33m)\u001b[0m\u001b[1;33m\u001b[0m\u001b[1;33m\u001b[0m\u001b[0m\n\u001b[0;32m     19\u001b[0m     \u001b[1;32mreturn\u001b[0m \u001b[0mrow\u001b[0m\u001b[1;33m\u001b[0m\u001b[1;33m\u001b[0m\u001b[0m\n",
      "\u001b[1;31mKeyError\u001b[0m: 'lat'"
     ]
    }
   ],
   "source": [
    "# Read variable Data CF-1.1 Convention\n",
    "\n",
    "latList = read_variable_data(ncid, \"lat\")\n",
    "lonList = read_variable_data(ncid, \"lon\")\n",
    "\n",
    "meanSeaSurfaceList = read_variable_data(ncid, \"mean_sea_surface\")\n",
    "timeList = read_variable_data(ncid, \"time\")\n",
    "surfaceTypeList = read_variable_data(ncid, \"surface_type\")\n",
    "rangeList = read_variable_data(ncid, \"range_ku\")\n",
    "sshaList = read_variable_data(ncid, \"ssha\")\n",
    "altitudeList = read_variable_data(ncid, \"alt\")\n",
    "\n",
    "bathymetryList = read_variable_data(ncid, \"bathymetry\")\n",
    "geoflagsList = read_variable_data(ncid, \"geophysical_quality_flag\")\n",
    "qualityFlagList = read_variable_data(ncid, \"alt_quality_flag\")\n",
    "passNumberList = read_pass_number(ncid)\n",
    "\n",
    "#dataLists = [latList, lonList, meanSeaSurfaceList, timeList, surfaceTypeList, sshaList,bathymetryList,rangeList,altitudeList, geoflagsList, qualityFlagList]\n",
    "#dataListsNames = [\"lat\", \"lon\", \"mss\", \"time\", \"surface type\", \"ssha\", \"elevation\", \"range\",\"altitude\", \"geophysical quality flag\", \"alt quality flag\", \"pass number\"]\n",
    "\n",
    "dataLists = [latList, lonList, timeList, meanSeaSurfaceList, surfaceTypeList, rangeList,altitudeList, geoflagsList]\n",
    "dataListsNames = [\"lat\", \"lon\", \"time\", \"mss\",\"surface type\", \"range\",\"altitude\", \"geophysical quality flag\", \"pass number\"]\n",
    "\n",
    "\n",
    "latMin = 36.0\n",
    "latMax = 48.0\n",
    "lonMin = 46.0\n",
    "lonMax = 55.0\n",
    "\n",
    "height = len(dataLists)\n",
    "width = 15000\n",
    "print(height, width, len(dataLists[0]))\n"
   ]
  },
  {
   "cell_type": "code",
   "execution_count": 66,
   "id": "6cb4838a",
   "metadata": {},
   "outputs": [
    {
     "name": "stdout",
     "output_type": "stream",
     "text": [
      "<class 'netCDF4._netCDF4.Variable'>\n",
      "int32 mean_sea_surface(time)\n",
      "    _FillValue: 2147483647\n",
      "    long_name: mean sea surface height above reference ellipsoid\n",
      "    source: MSS_CNES_CLS-2011\n",
      "    institution: CLS/CNES\n",
      "    units: m\n",
      "    scale_factor: 0.0001\n",
      "    coordinates: lon lat\n",
      "    comment: See Jason-3 User Handbook\n",
      "unlimited dimensions: \n",
      "current shape = (45,)\n",
      "filling on\n"
     ]
    }
   ],
   "source": [
    "print(meanSeaSurfaceList[3505])"
   ]
  },
  {
   "cell_type": "code",
   "execution_count": 9,
   "id": "cc778014",
   "metadata": {},
   "outputs": [
    {
     "name": "stdout",
     "output_type": "stream",
     "text": [
      "8 14500 4347\n"
     ]
    }
   ],
   "source": [
    "# Read variable Data CF-1.7 Convention\n",
    "\n",
    "latList = read_variable_data(ncid, \"latitude\")\n",
    "lonList = read_variable_data(ncid, \"longitude\")\n",
    "\n",
    "meanSeaSurfaceList = read_variable_data(ncid, \"mean_sea_surface_cnescls\")\n",
    "timeList = read_variable_data(ncid, \"time\")\n",
    "surfaceTypeList = read_variable_data(ncid, \"surface_classification_flag\")\n",
    "rangeList = read_variable_data(ncid, \"range_ocean\")\n",
    "sshaList = read_variable_data(ncid, \"ssha\")\n",
    "altitudeList = read_variable_data(ncid, \"altitude\")\n",
    "\n",
    "bathymetryList = read_variable_data(ncid, \"depth_or_elevation\")\n",
    "geoflagsList = read_variable_data(ncid, \"geo_qual\")\n",
    "#qualityFlagList = read_variable_data(ncid, \"alt_qual\")\n",
    "passNumberList = read_pass_number(ncid, convention=\"1.7\", varname=\"latitude\")\n",
    "\n",
    "dataLists = [latList, lonList, timeList, meanSeaSurfaceList, surfaceTypeList, rangeList,altitudeList, geoflagsList]\n",
    "dataListsNames = [\"lat\", \"lon\", \"time\", \"mss\",\"surface type\", \"range\",\"altitude\", \"geophysical quality flag\", \"pass number\"]\n",
    "\n",
    "\n",
    "latMin = 36.0\n",
    "latMax = 48.0\n",
    "lonMin = 46.0\n",
    "lonMax = 55.0\n",
    "\n",
    "height = len(dataLists)\n",
    "width = 14500\n",
    "print(height, width, len(dataLists[0]))"
   ]
  },
  {
   "cell_type": "code",
   "execution_count": 37,
   "id": "59aab53a",
   "metadata": {},
   "outputs": [
    {
     "name": "stdout",
     "output_type": "stream",
     "text": [
      "data type: lat, 1 of 8\n",
      "data type: lon, 2 of 8\n",
      "data type: time, 3 of 8\n",
      "data type: mss, 4 of 8\n",
      "data type: surface type, 5 of 8\n",
      "data type: range, 6 of 8\n",
      "data type: altitude, 7 of 8\n",
      "data type: geophysical quality flag, 8 of 8\n"
     ]
    }
   ],
   "source": [
    "def pad(arr):\n",
    "    if width - len(arr) < 0:\n",
    "        print(len(arr))\n",
    "    return np.pad(arr, (0, width - len(arr)), mode='constant',constant_values=(np.nan,))\n",
    "\n",
    "vectors = []\n",
    "orbitPassesMat = np.full([len(dataLists[0]), width, ], np.nan)\n",
    "\n",
    "\n",
    "for i, data in enumerate(dataLists):\n",
    "    print(\"data type: {}, {} of {}\".format(dataListsNames[i], i + 1, len(dataLists)))\n",
    "    tempMat = np.full([len(data), width, ], np.nan)\n",
    "    for x in range(len(data)):\n",
    "        # should cover reading pass number list as this is not a nested list. Otherwise read nested using x as index        \n",
    "        if (i == 0):\n",
    "            orbitPass = passNumberList[x]\n",
    "            orbitPassesMat[x,:] = orbitPass\n",
    "            \n",
    "        arr = np.array(data[x])\n",
    "         #   len(data[x])\n",
    "        #except:\n",
    "            #\n",
    "        \n",
    "        arr = arr.astype(np.float32)\n",
    "        entries = pad(arr)\n",
    "        tempMat[x,:] = entries\n",
    "    \n",
    "    tempVector = tempMat.flatten()\n",
    "    vectors.append(tempVector)\n",
    "    \n",
    "    if ( i == len(dataLists) - 1):\n",
    "        orbitPasses = orbitPassesMat.flatten()\n",
    "        vectors.append(orbitPasses)"
   ]
  },
  {
   "cell_type": "code",
   "execution_count": 38,
   "id": "74d097cc",
   "metadata": {},
   "outputs": [
    {
     "name": "stdout",
     "output_type": "stream",
     "text": [
      "52590000\n",
      "52590000\n",
      "52590000\n",
      "52590000\n",
      "52590000\n",
      "52590000\n",
      "52590000\n",
      "52590000\n",
      "52590000\n"
     ]
    }
   ],
   "source": [
    "for x in vectors:\n",
    "    print(len(x))\n"
   ]
  },
  {
   "cell_type": "code",
   "execution_count": 40,
   "id": "57455489",
   "metadata": {},
   "outputs": [
    {
     "name": "stdout",
     "output_type": "stream",
     "text": [
      "(9, 52590000)\n",
      "(52590000, 9)\n"
     ]
    }
   ],
   "source": [
    "# Rotate matrix and convert to pandas dataframe\n",
    "dataMat = np.array(vectors)\n",
    "print(dataMat.shape)\n",
    "dataMat = np.transpose(dataMat)\n",
    "\n",
    "print(dataMat.shape)\n",
    "\n",
    "df = pd.DataFrame(dataMat)\n",
    "df.columns = dataListsNames"
   ]
  },
  {
   "cell_type": "code",
   "execution_count": 42,
   "id": "ac66f86e",
   "metadata": {},
   "outputs": [],
   "source": [
    "df = df.drop(df[(df.lon > lonMax)].index)\n",
    "df = df.drop(df[(df.lon < lonMin)].index)\n",
    "\n"
   ]
  },
  {
   "cell_type": "code",
   "execution_count": 43,
   "id": "e901d752",
   "metadata": {},
   "outputs": [],
   "source": [
    "df = df.drop(df[(df.lat > latMax)].index)\n",
    "df = df.drop(df[(df.lat < latMin)].index)"
   ]
  },
  {
   "cell_type": "code",
   "execution_count": 44,
   "id": "e1da215f",
   "metadata": {},
   "outputs": [],
   "source": [
    "df = df.dropna()"
   ]
  },
  {
   "cell_type": "code",
   "execution_count": 45,
   "id": "4358619a",
   "metadata": {},
   "outputs": [
    {
     "name": "stdout",
     "output_type": "stream",
     "text": [
      "Day\n",
      "Month\n",
      "Year\n"
     ]
    }
   ],
   "source": [
    "\n",
    "df[\"day\"] = \"\"\n",
    "df[\"month\"] = \"\"\n",
    "df[\"year\"] = \"\"\n",
    "\n",
    "base_date = datetime(2000, 1, 1)\n",
    "print(\"Day\")\n",
    "df[\"day\"] = df[\"time\"].apply(lambda x: (base_date + timedelta(seconds=int(x))).day)\n",
    "print(\"Month\")\n",
    "df[\"month\"] = df[\"time\"].apply(lambda x: (base_date + timedelta(seconds=int(x))).month)\n",
    "print(\"Year\")\n",
    "df[\"year\"] = df[\"time\"].apply(lambda x: (base_date + timedelta(seconds=int(x))).year)\n"
   ]
  },
  {
   "cell_type": "code",
   "execution_count": 46,
   "id": "3924154e",
   "metadata": {},
   "outputs": [
    {
     "data": {
      "text/html": [
       "<div>\n",
       "<style scoped>\n",
       "    .dataframe tbody tr th:only-of-type {\n",
       "        vertical-align: middle;\n",
       "    }\n",
       "\n",
       "    .dataframe tbody tr th {\n",
       "        vertical-align: top;\n",
       "    }\n",
       "\n",
       "    .dataframe thead th {\n",
       "        text-align: right;\n",
       "    }\n",
       "</style>\n",
       "<table border=\"1\" class=\"dataframe\">\n",
       "  <thead>\n",
       "    <tr style=\"text-align: right;\">\n",
       "      <th></th>\n",
       "      <th>lat</th>\n",
       "      <th>lon</th>\n",
       "      <th>time</th>\n",
       "      <th>mss</th>\n",
       "      <th>surface type</th>\n",
       "      <th>range</th>\n",
       "      <th>altitude</th>\n",
       "      <th>geophysical quality flag</th>\n",
       "      <th>pass number</th>\n",
       "      <th>day</th>\n",
       "      <th>month</th>\n",
       "      <th>year</th>\n",
       "    </tr>\n",
       "  </thead>\n",
       "  <tbody>\n",
       "    <tr>\n",
       "      <th>180803</th>\n",
       "      <td>47.969185</td>\n",
       "      <td>47.887955</td>\n",
       "      <td>631237120.0</td>\n",
       "      <td>-10.8362</td>\n",
       "      <td>3.0</td>\n",
       "      <td>2.147484e+09</td>\n",
       "      <td>1349423.375</td>\n",
       "      <td>127.0</td>\n",
       "      <td>167.0</td>\n",
       "      <td>1</td>\n",
       "      <td>1</td>\n",
       "      <td>2020</td>\n",
       "    </tr>\n",
       "    <tr>\n",
       "      <th>180804</th>\n",
       "      <td>47.925907</td>\n",
       "      <td>47.932610</td>\n",
       "      <td>631237120.0</td>\n",
       "      <td>-10.8899</td>\n",
       "      <td>3.0</td>\n",
       "      <td>1.349427e+06</td>\n",
       "      <td>1349409.750</td>\n",
       "      <td>127.0</td>\n",
       "      <td>167.0</td>\n",
       "      <td>1</td>\n",
       "      <td>1</td>\n",
       "      <td>2020</td>\n",
       "    </tr>\n",
       "    <tr>\n",
       "      <th>180805</th>\n",
       "      <td>47.882607</td>\n",
       "      <td>47.977180</td>\n",
       "      <td>631237120.0</td>\n",
       "      <td>-10.8655</td>\n",
       "      <td>3.0</td>\n",
       "      <td>2.147484e+09</td>\n",
       "      <td>1349396.125</td>\n",
       "      <td>127.0</td>\n",
       "      <td>167.0</td>\n",
       "      <td>1</td>\n",
       "      <td>1</td>\n",
       "      <td>2020</td>\n",
       "    </tr>\n",
       "    <tr>\n",
       "      <th>180806</th>\n",
       "      <td>47.839287</td>\n",
       "      <td>48.021667</td>\n",
       "      <td>631237120.0</td>\n",
       "      <td>-10.8325</td>\n",
       "      <td>3.0</td>\n",
       "      <td>2.147484e+09</td>\n",
       "      <td>1349382.500</td>\n",
       "      <td>127.0</td>\n",
       "      <td>167.0</td>\n",
       "      <td>1</td>\n",
       "      <td>1</td>\n",
       "      <td>2020</td>\n",
       "    </tr>\n",
       "    <tr>\n",
       "      <th>180807</th>\n",
       "      <td>47.795944</td>\n",
       "      <td>48.066078</td>\n",
       "      <td>631237120.0</td>\n",
       "      <td>-10.8018</td>\n",
       "      <td>3.0</td>\n",
       "      <td>2.147484e+09</td>\n",
       "      <td>1349369.000</td>\n",
       "      <td>127.0</td>\n",
       "      <td>167.0</td>\n",
       "      <td>1</td>\n",
       "      <td>1</td>\n",
       "      <td>2020</td>\n",
       "    </tr>\n",
       "    <tr>\n",
       "      <th>...</th>\n",
       "      <td>...</td>\n",
       "      <td>...</td>\n",
       "      <td>...</td>\n",
       "      <td>...</td>\n",
       "      <td>...</td>\n",
       "      <td>...</td>\n",
       "      <td>...</td>\n",
       "      <td>...</td>\n",
       "      <td>...</td>\n",
       "      <td>...</td>\n",
       "      <td>...</td>\n",
       "      <td>...</td>\n",
       "    </tr>\n",
       "    <tr>\n",
       "      <th>180898</th>\n",
       "      <td>43.786331</td>\n",
       "      <td>51.782925</td>\n",
       "      <td>631237184.0</td>\n",
       "      <td>-11.3925</td>\n",
       "      <td>3.0</td>\n",
       "      <td>2.147484e+09</td>\n",
       "      <td>1348107.125</td>\n",
       "      <td>127.0</td>\n",
       "      <td>167.0</td>\n",
       "      <td>1</td>\n",
       "      <td>1</td>\n",
       "      <td>2020</td>\n",
       "    </tr>\n",
       "    <tr>\n",
       "      <th>180899</th>\n",
       "      <td>43.741318</td>\n",
       "      <td>51.820770</td>\n",
       "      <td>631237184.0</td>\n",
       "      <td>-11.4528</td>\n",
       "      <td>3.0</td>\n",
       "      <td>2.147484e+09</td>\n",
       "      <td>1348093.000</td>\n",
       "      <td>127.0</td>\n",
       "      <td>167.0</td>\n",
       "      <td>1</td>\n",
       "      <td>1</td>\n",
       "      <td>2020</td>\n",
       "    </tr>\n",
       "    <tr>\n",
       "      <th>180900</th>\n",
       "      <td>43.696281</td>\n",
       "      <td>51.858555</td>\n",
       "      <td>631237184.0</td>\n",
       "      <td>-11.4517</td>\n",
       "      <td>3.0</td>\n",
       "      <td>2.147484e+09</td>\n",
       "      <td>1348078.875</td>\n",
       "      <td>127.0</td>\n",
       "      <td>167.0</td>\n",
       "      <td>1</td>\n",
       "      <td>1</td>\n",
       "      <td>2020</td>\n",
       "    </tr>\n",
       "    <tr>\n",
       "      <th>180901</th>\n",
       "      <td>43.651234</td>\n",
       "      <td>51.896275</td>\n",
       "      <td>631237184.0</td>\n",
       "      <td>-11.4650</td>\n",
       "      <td>3.0</td>\n",
       "      <td>2.147484e+09</td>\n",
       "      <td>1348064.750</td>\n",
       "      <td>127.0</td>\n",
       "      <td>167.0</td>\n",
       "      <td>1</td>\n",
       "      <td>1</td>\n",
       "      <td>2020</td>\n",
       "    </tr>\n",
       "    <tr>\n",
       "      <th>180902</th>\n",
       "      <td>43.606171</td>\n",
       "      <td>51.933929</td>\n",
       "      <td>631237184.0</td>\n",
       "      <td>-11.4903</td>\n",
       "      <td>3.0</td>\n",
       "      <td>2.147484e+09</td>\n",
       "      <td>1348050.500</td>\n",
       "      <td>127.0</td>\n",
       "      <td>167.0</td>\n",
       "      <td>1</td>\n",
       "      <td>1</td>\n",
       "      <td>2020</td>\n",
       "    </tr>\n",
       "  </tbody>\n",
       "</table>\n",
       "<p>100 rows × 12 columns</p>\n",
       "</div>"
      ],
      "text/plain": [
       "              lat        lon         time      mss  surface type  \\\n",
       "180803  47.969185  47.887955  631237120.0 -10.8362           3.0   \n",
       "180804  47.925907  47.932610  631237120.0 -10.8899           3.0   \n",
       "180805  47.882607  47.977180  631237120.0 -10.8655           3.0   \n",
       "180806  47.839287  48.021667  631237120.0 -10.8325           3.0   \n",
       "180807  47.795944  48.066078  631237120.0 -10.8018           3.0   \n",
       "...           ...        ...          ...      ...           ...   \n",
       "180898  43.786331  51.782925  631237184.0 -11.3925           3.0   \n",
       "180899  43.741318  51.820770  631237184.0 -11.4528           3.0   \n",
       "180900  43.696281  51.858555  631237184.0 -11.4517           3.0   \n",
       "180901  43.651234  51.896275  631237184.0 -11.4650           3.0   \n",
       "180902  43.606171  51.933929  631237184.0 -11.4903           3.0   \n",
       "\n",
       "               range     altitude  geophysical quality flag  pass number  day  \\\n",
       "180803  2.147484e+09  1349423.375                     127.0        167.0    1   \n",
       "180804  1.349427e+06  1349409.750                     127.0        167.0    1   \n",
       "180805  2.147484e+09  1349396.125                     127.0        167.0    1   \n",
       "180806  2.147484e+09  1349382.500                     127.0        167.0    1   \n",
       "180807  2.147484e+09  1349369.000                     127.0        167.0    1   \n",
       "...              ...          ...                       ...          ...  ...   \n",
       "180898  2.147484e+09  1348107.125                     127.0        167.0    1   \n",
       "180899  2.147484e+09  1348093.000                     127.0        167.0    1   \n",
       "180900  2.147484e+09  1348078.875                     127.0        167.0    1   \n",
       "180901  2.147484e+09  1348064.750                     127.0        167.0    1   \n",
       "180902  2.147484e+09  1348050.500                     127.0        167.0    1   \n",
       "\n",
       "        month  year  \n",
       "180803      1  2020  \n",
       "180804      1  2020  \n",
       "180805      1  2020  \n",
       "180806      1  2020  \n",
       "180807      1  2020  \n",
       "...       ...   ...  \n",
       "180898      1  2020  \n",
       "180899      1  2020  \n",
       "180900      1  2020  \n",
       "180901      1  2020  \n",
       "180902      1  2020  \n",
       "\n",
       "[100 rows x 12 columns]"
      ]
     },
     "execution_count": 46,
     "metadata": {},
     "output_type": "execute_result"
    }
   ],
   "source": [
    "df.head(100)"
   ]
  },
  {
   "cell_type": "code",
   "execution_count": 47,
   "id": "597f1d82",
   "metadata": {},
   "outputs": [],
   "source": [
    "df.to_csv(r'reduced_caspian_2020.csv', index=False)\n"
   ]
  },
  {
   "cell_type": "code",
   "execution_count": 48,
   "id": "e0f77225",
   "metadata": {},
   "outputs": [
    {
     "data": {
      "text/html": [
       "<div>\n",
       "<style scoped>\n",
       "    .dataframe tbody tr th:only-of-type {\n",
       "        vertical-align: middle;\n",
       "    }\n",
       "\n",
       "    .dataframe tbody tr th {\n",
       "        vertical-align: top;\n",
       "    }\n",
       "\n",
       "    .dataframe thead th {\n",
       "        text-align: right;\n",
       "    }\n",
       "</style>\n",
       "<table border=\"1\" class=\"dataframe\">\n",
       "  <thead>\n",
       "    <tr style=\"text-align: right;\">\n",
       "      <th></th>\n",
       "      <th>lat</th>\n",
       "      <th>lon</th>\n",
       "      <th>time</th>\n",
       "      <th>mss</th>\n",
       "      <th>surface type</th>\n",
       "      <th>range</th>\n",
       "      <th>altitude</th>\n",
       "      <th>geophysical quality flag</th>\n",
       "      <th>pass number</th>\n",
       "      <th>day</th>\n",
       "      <th>month</th>\n",
       "      <th>year</th>\n",
       "    </tr>\n",
       "  </thead>\n",
       "  <tbody>\n",
       "  </tbody>\n",
       "</table>\n",
       "</div>"
      ],
      "text/plain": [
       "Empty DataFrame\n",
       "Columns: [lat, lon, time, mss, surface type, range, altitude, geophysical quality flag, pass number, day, month, year]\n",
       "Index: []"
      ]
     },
     "execution_count": 48,
     "metadata": {},
     "output_type": "execute_result"
    }
   ],
   "source": [
    "data = df.loc[(df.month == 12) &(df.year == 2016) & (df[\"surface type\"] == 1)]\n",
    "data.head(10000)\n"
   ]
  },
  {
   "cell_type": "code",
   "execution_count": null,
   "id": "d57b925f",
   "metadata": {},
   "outputs": [],
   "source": []
  },
  {
   "cell_type": "code",
   "execution_count": null,
   "id": "10090a77",
   "metadata": {},
   "outputs": [],
   "source": []
  },
  {
   "cell_type": "code",
   "execution_count": 59,
   "id": "324d94b0",
   "metadata": {},
   "outputs": [
    {
     "name": "stdout",
     "output_type": "stream",
     "text": [
      "[]\n"
     ]
    },
    {
     "data": {
      "image/png": "[encoded data removed]",
      "text/plain": [
       "<Figure size 864x504 with 1 Axes>"
      ]
     },
     "metadata": {
      "needs_background": "light"
     },
     "output_type": "display_data"
    }
   ],
   "source": [
    "import cartopy.crs as crs\n",
    "import cartopy.feature as feat\n",
    "\n",
    "def windowToAxes(window):\n",
    "    return [window[0]['lon'], window[1]['lon'], window[1]['lat'], window[0]['lat']]\n",
    "\n",
    "window = [{'lat': latMax, 'lon': lonMax}, {'lat': latMin, 'lon': lonMin}]\n",
    "\n",
    "data = df.loc[(df.month == 12) & (df[\"surface type\"] == 1)]\n",
    "\n",
    "\n",
    "fig = plt.figure(figsize=(12, 7))\n",
    "ax = plt.axes(projection=crs.PlateCarree())\n",
    "ax.set_extent(windowToAxes(window))\n",
    "ax.add_feature(feat.LAND, zorder=100, edgecolor='k', alpha=0.3)\n",
    "ax.coastlines()\n",
    "ax.scatter(x=data[\"lon\"], y=data[\"lat\"], c=data[\"pass number\"], s=2, transform=crs.PlateCarree(central_longitude=0))\n",
    "ax.gridlines(draw_labels=False)\n",
    "\n",
    "print(data[\"pass number\"].unique())\n"
   ]
  },
  {
   "cell_type": "code",
   "execution_count": null,
   "id": "b75dde57",
   "metadata": {},
   "outputs": [],
   "source": []
  },
  {
   "cell_type": "code",
   "execution_count": null,
   "id": "831c0e34",
   "metadata": {},
   "outputs": [],
   "source": []
  }
 ],
 "metadata": {
  "kernelspec": {
   "display_name": "Python 3 (ipykernel)",
   "language": "python",
   "name": "python3"
  },
  "language_info": {
   "codemirror_mode": {
    "name": "ipython",
    "version": 3
   },
   "file_extension": ".py",
   "mimetype": "text/x-python",
   "name": "python",
   "nbconvert_exporter": "python",
   "pygments_lexer": "ipython3",
   "version": "3.9.7"
  }
 },
 "nbformat": 4,
 "nbformat_minor": 5
}
